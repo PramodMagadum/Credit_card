{
  "nbformat": 4,
  "nbformat_minor": 0,
  "metadata": {
    "colab": {
      "provenance": []
    },
    "kernelspec": {
      "name": "python3",
      "display_name": "Python 3"
    },
    "language_info": {
      "name": "python"
    }
  },
  "cells": [
    {
      "cell_type": "code",
      "source": [
        "import pandas as pd\n",
        "df = pd.read_csv('creditcard.csv')"
      ],
      "metadata": {
        "id": "3B33NGkuzKbu"
      },
      "execution_count": 3,
      "outputs": []
    },
    {
      "cell_type": "code",
      "source": [
        "df.shape\n",
        "df.columns"
      ],
      "metadata": {
        "colab": {
          "base_uri": "https://localhost:8080/"
        },
        "id": "Jdbt71FazvdW",
        "outputId": "26f1315f-cb4e-4de7-c75d-dc130cd066dd"
      },
      "execution_count": 4,
      "outputs": [
        {
          "output_type": "execute_result",
          "data": {
            "text/plain": [
              "Index(['Time', 'V1', 'V2', 'V3', 'V4', 'V5', 'V6', 'V7', 'V8', 'V9', 'V10',\n",
              "       'V11', 'V12', 'V13', 'V14', 'V15', 'V16', 'V17', 'V18', 'V19', 'V20',\n",
              "       'V21', 'V22', 'V23', 'V24', 'V25', 'V26', 'V27', 'V28', 'Amount',\n",
              "       'Class'],\n",
              "      dtype='object')"
            ]
          },
          "metadata": {},
          "execution_count": 4
        }
      ]
    },
    {
      "cell_type": "code",
      "source": [
        "from sklearn.preprocessing import RobustScaler\n",
        "\n",
        "scaler = RobustScaler()\n",
        "df[['Amount', 'Time']] = scaler.fit_transform(df[['Amount', 'Time']])\n"
      ],
      "metadata": {
        "id": "N-gaqdqMz0Qz"
      },
      "execution_count": 5,
      "outputs": []
    },
    {
      "cell_type": "code",
      "source": [
        "df = df.sample(frac=1, random_state=42)\n",
        "df\n",
        "\n",
        "not_frauds = df[df['Class'] == 0]\n",
        "frauds = df[df['Class'] == 1]\n",
        "\n",
        "balanced_df = pd.concat([frauds, not_frauds.sample(n=len(frauds), random_state=42)])\n",
        "\n",
        "balanced_df = balanced_df.sample(frac=1, random_state=42)\n",
        "\n",
        "balanced_df['Class'].value_counts()\n"
      ],
      "metadata": {
        "colab": {
          "base_uri": "https://localhost:8080/"
        },
        "id": "lpGBg9i_0XWh",
        "outputId": "669a4699-068b-4f4d-bfb0-56354f3cd00c"
      },
      "execution_count": 6,
      "outputs": [
        {
          "output_type": "execute_result",
          "data": {
            "text/plain": [
              "Class\n",
              "1.0    3\n",
              "0.0    3\n",
              "Name: count, dtype: int64"
            ]
          },
          "metadata": {},
          "execution_count": 6
        }
      ]
    },
    {
      "cell_type": "code",
      "source": [
        "from sklearn.model_selection import train_test_split\n",
        "balanced_df_np = balanced_df.to_numpy()\n",
        "\n",
        "\n",
        "x_train_val_b, x_test_b, y_train_val_b, y_test_b = train_test_split(\n",
        "    balanced_df_np[:, :-1], balanced_df_np[:, -1].astype(int), test_size=0.15, random_state=42\n",
        ")\n",
        "x_train_b, x_val_b, y_train_b, y_val_b = train_test_split(\n",
        "    x_train_val_b, y_train_val_b, test_size=0.15, random_state=42\n",
        ")\n",
        "\n",
        "\n",
        "x_train_b.shape, y_train_b.shape, x_test_b.shape, y_test_b.shape, x_val_b.shape, y_val_b.shape\n",
        "\n",
        "\n",
        "\n",
        "pd.Series(y_train_b).value_counts(), pd.Series(y_test_b).value_counts(), pd.Series(y_val_b).value_counts()\n"
      ],
      "metadata": {
        "colab": {
          "base_uri": "https://localhost:8080/"
        },
        "id": "kDeKSUY40aGF",
        "outputId": "b8e1ce8d-9e72-47b8-f947-b33b44928f0a"
      },
      "execution_count": 7,
      "outputs": [
        {
          "output_type": "execute_result",
          "data": {
            "text/plain": [
              "(1    2\n",
              " 0    2\n",
              " Name: count, dtype: int64,\n",
              " 1    1\n",
              " Name: count, dtype: int64,\n",
              " 0    1\n",
              " Name: count, dtype: int64)"
            ]
          },
          "metadata": {},
          "execution_count": 7
        }
      ]
    },
    {
      "cell_type": "code",
      "source": [
        "from keras.models import Sequential\n",
        "from keras.layers import InputLayer, Dense, BatchNormalization\n",
        "\n",
        "shallow_nn = Sequential()\n",
        "shallow_nn.add(InputLayer(input_shape=(x_train_b.shape[1],)))\n",
        "shallow_nn.add(Dense(2, activation='relu'))\n",
        "shallow_nn.add(BatchNormalization())\n",
        "shallow_nn.add(Dense(1, activation='sigmoid'))\n"
      ],
      "metadata": {
        "id": "ZLWqW5312zve"
      },
      "execution_count": 8,
      "outputs": []
    },
    {
      "cell_type": "code",
      "source": [
        "from keras.callbacks import ModelCheckpoint\n",
        "\n",
        "checkpoint = ModelCheckpoint('shallow_nn', save_best_only=True)\n",
        "\n",
        "shallow_nn.compile(optimizer='adam', loss='binary_crossentropy', metrics=['accuracy'])\n",
        "\n",
        "shallow_nn.fit(x_train_b, y_train_b, validation_data=(x_val_b, y_val_b), epochs=40, callbacks=[checkpoint])\n"
      ],
      "metadata": {
        "colab": {
          "base_uri": "https://localhost:8080/"
        },
        "id": "vOlALF563GP3",
        "outputId": "1508b2a2-87d4-4283-a313-20bfcdfab084"
      },
      "execution_count": 9,
      "outputs": [
        {
          "output_type": "stream",
          "name": "stdout",
          "text": [
            "Epoch 1/40\n",
            "1/1 [==============================] - 3s 3s/step - loss: 0.3291 - accuracy: 1.0000 - val_loss: 1.3233 - val_accuracy: 0.0000e+00\n",
            "Epoch 2/40\n",
            "1/1 [==============================] - 1s 786ms/step - loss: 0.3248 - accuracy: 1.0000 - val_loss: 1.3028 - val_accuracy: 0.0000e+00\n",
            "Epoch 3/40\n",
            "1/1 [==============================] - 1s 819ms/step - loss: 0.3206 - accuracy: 1.0000 - val_loss: 1.2827 - val_accuracy: 0.0000e+00\n",
            "Epoch 4/40\n",
            "1/1 [==============================] - 1s 729ms/step - loss: 0.3165 - accuracy: 1.0000 - val_loss: 1.2628 - val_accuracy: 0.0000e+00\n",
            "Epoch 5/40\n",
            "1/1 [==============================] - 1s 735ms/step - loss: 0.3124 - accuracy: 1.0000 - val_loss: 1.2433 - val_accuracy: 0.0000e+00\n",
            "Epoch 6/40\n",
            "1/1 [==============================] - 1s 745ms/step - loss: 0.3084 - accuracy: 1.0000 - val_loss: 1.2243 - val_accuracy: 0.0000e+00\n",
            "Epoch 7/40\n",
            "1/1 [==============================] - 1s 880ms/step - loss: 0.3045 - accuracy: 1.0000 - val_loss: 1.2059 - val_accuracy: 0.0000e+00\n",
            "Epoch 8/40\n",
            "1/1 [==============================] - 1s 1s/step - loss: 0.3007 - accuracy: 1.0000 - val_loss: 1.1880 - val_accuracy: 0.0000e+00\n",
            "Epoch 9/40\n",
            "1/1 [==============================] - 2s 2s/step - loss: 0.2970 - accuracy: 1.0000 - val_loss: 1.1707 - val_accuracy: 0.0000e+00\n",
            "Epoch 10/40\n",
            "1/1 [==============================] - 2s 2s/step - loss: 0.2933 - accuracy: 1.0000 - val_loss: 1.1539 - val_accuracy: 0.0000e+00\n",
            "Epoch 11/40\n",
            "1/1 [==============================] - 3s 3s/step - loss: 0.2897 - accuracy: 1.0000 - val_loss: 1.1376 - val_accuracy: 0.0000e+00\n",
            "Epoch 12/40\n",
            "1/1 [==============================] - 2s 2s/step - loss: 0.2862 - accuracy: 1.0000 - val_loss: 1.1218 - val_accuracy: 0.0000e+00\n",
            "Epoch 13/40\n",
            "1/1 [==============================] - 2s 2s/step - loss: 0.2828 - accuracy: 1.0000 - val_loss: 1.1064 - val_accuracy: 0.0000e+00\n",
            "Epoch 14/40\n",
            "1/1 [==============================] - 2s 2s/step - loss: 0.2794 - accuracy: 1.0000 - val_loss: 1.0914 - val_accuracy: 0.0000e+00\n",
            "Epoch 15/40\n",
            "1/1 [==============================] - 2s 2s/step - loss: 0.2761 - accuracy: 1.0000 - val_loss: 1.0767 - val_accuracy: 0.0000e+00\n",
            "Epoch 16/40\n",
            "1/1 [==============================] - 1s 971ms/step - loss: 0.2729 - accuracy: 1.0000 - val_loss: 1.0623 - val_accuracy: 0.0000e+00\n",
            "Epoch 17/40\n",
            "1/1 [==============================] - 1s 757ms/step - loss: 0.2698 - accuracy: 1.0000 - val_loss: 1.0482 - val_accuracy: 0.0000e+00\n",
            "Epoch 18/40\n",
            "1/1 [==============================] - 1s 724ms/step - loss: 0.2667 - accuracy: 1.0000 - val_loss: 1.0343 - val_accuracy: 0.0000e+00\n",
            "Epoch 19/40\n",
            "1/1 [==============================] - 1s 697ms/step - loss: 0.2638 - accuracy: 1.0000 - val_loss: 1.0207 - val_accuracy: 0.0000e+00\n",
            "Epoch 20/40\n",
            "1/1 [==============================] - 1s 709ms/step - loss: 0.2609 - accuracy: 1.0000 - val_loss: 1.0073 - val_accuracy: 0.0000e+00\n",
            "Epoch 21/40\n",
            "1/1 [==============================] - 1s 836ms/step - loss: 0.2580 - accuracy: 1.0000 - val_loss: 0.9941 - val_accuracy: 0.0000e+00\n",
            "Epoch 22/40\n",
            "1/1 [==============================] - 2s 2s/step - loss: 0.2553 - accuracy: 1.0000 - val_loss: 0.9811 - val_accuracy: 0.0000e+00\n",
            "Epoch 23/40\n",
            "1/1 [==============================] - 1s 1s/step - loss: 0.2526 - accuracy: 1.0000 - val_loss: 0.9683 - val_accuracy: 0.0000e+00\n",
            "Epoch 24/40\n",
            "1/1 [==============================] - 1s 867ms/step - loss: 0.2499 - accuracy: 1.0000 - val_loss: 0.9557 - val_accuracy: 0.0000e+00\n",
            "Epoch 25/40\n",
            "1/1 [==============================] - 1s 708ms/step - loss: 0.2474 - accuracy: 1.0000 - val_loss: 0.9432 - val_accuracy: 0.0000e+00\n",
            "Epoch 26/40\n",
            "1/1 [==============================] - 1s 689ms/step - loss: 0.2448 - accuracy: 1.0000 - val_loss: 0.9309 - val_accuracy: 0.0000e+00\n",
            "Epoch 27/40\n",
            "1/1 [==============================] - 1s 699ms/step - loss: 0.2424 - accuracy: 1.0000 - val_loss: 0.9187 - val_accuracy: 0.0000e+00\n",
            "Epoch 28/40\n",
            "1/1 [==============================] - 1s 703ms/step - loss: 0.2400 - accuracy: 1.0000 - val_loss: 0.9067 - val_accuracy: 0.0000e+00\n",
            "Epoch 29/40\n",
            "1/1 [==============================] - 1s 701ms/step - loss: 0.2376 - accuracy: 1.0000 - val_loss: 0.8948 - val_accuracy: 0.0000e+00\n",
            "Epoch 30/40\n",
            "1/1 [==============================] - 1s 722ms/step - loss: 0.2353 - accuracy: 1.0000 - val_loss: 0.8831 - val_accuracy: 0.0000e+00\n",
            "Epoch 31/40\n",
            "1/1 [==============================] - 1s 742ms/step - loss: 0.2331 - accuracy: 1.0000 - val_loss: 0.8715 - val_accuracy: 0.0000e+00\n",
            "Epoch 32/40\n",
            "1/1 [==============================] - 1s 745ms/step - loss: 0.2308 - accuracy: 1.0000 - val_loss: 0.8601 - val_accuracy: 0.0000e+00\n",
            "Epoch 33/40\n",
            "1/1 [==============================] - 1s 716ms/step - loss: 0.2287 - accuracy: 1.0000 - val_loss: 0.8488 - val_accuracy: 0.0000e+00\n",
            "Epoch 34/40\n",
            "1/1 [==============================] - 1s 1s/step - loss: 0.2265 - accuracy: 1.0000 - val_loss: 0.8376 - val_accuracy: 0.0000e+00\n",
            "Epoch 35/40\n",
            "1/1 [==============================] - 1s 719ms/step - loss: 0.2244 - accuracy: 1.0000 - val_loss: 0.8266 - val_accuracy: 0.0000e+00\n",
            "Epoch 36/40\n",
            "1/1 [==============================] - 1s 738ms/step - loss: 0.2224 - accuracy: 1.0000 - val_loss: 0.8158 - val_accuracy: 0.0000e+00\n",
            "Epoch 37/40\n",
            "1/1 [==============================] - 1s 789ms/step - loss: 0.2204 - accuracy: 1.0000 - val_loss: 0.8050 - val_accuracy: 0.0000e+00\n",
            "Epoch 38/40\n",
            "1/1 [==============================] - 1s 991ms/step - loss: 0.2184 - accuracy: 1.0000 - val_loss: 0.7945 - val_accuracy: 0.0000e+00\n",
            "Epoch 39/40\n",
            "1/1 [==============================] - 1s 1s/step - loss: 0.2164 - accuracy: 1.0000 - val_loss: 0.7840 - val_accuracy: 0.0000e+00\n",
            "Epoch 40/40\n",
            "1/1 [==============================] - 1s 1s/step - loss: 0.2145 - accuracy: 1.0000 - val_loss: 0.7737 - val_accuracy: 0.0000e+00\n"
          ]
        },
        {
          "output_type": "execute_result",
          "data": {
            "text/plain": [
              "<keras.src.callbacks.History at 0x79d4a2a8a770>"
            ]
          },
          "metadata": {},
          "execution_count": 9
        }
      ]
    },
    {
      "cell_type": "code",
      "source": [
        "def neural_net_predictions(model, x):\n",
        "    return (model.predict(x).flatten() > 0.5).astype(int)\n",
        "\n",
        "neural_net_predictions(shallow_nn_b, x_val_b)"
      ],
      "metadata": {
        "colab": {
          "base_uri": "https://localhost:8080/"
        },
        "id": "HV5WUSBxy7du",
        "outputId": "88bec02c-d7f3-47f4-ba43-a63acbda5ee9"
      },
      "execution_count": 11,
      "outputs": [
        {
          "output_type": "stream",
          "name": "stdout",
          "text": [
            "1/1 [==============================] - 0s 486ms/step\n"
          ]
        },
        {
          "output_type": "execute_result",
          "data": {
            "text/plain": [
              "array([0])"
            ]
          },
          "metadata": {},
          "execution_count": 11
        }
      ]
    },
    {
      "cell_type": "code",
      "source": [
        "\n",
        "shallow_nn_b = shallow_nn\n",
        "\n",
        "\n",
        "shallow_nn_b.compile(optimizer='adam', loss='binary_crossentropy', metrics=['accuracy'])\n",
        "\n",
        "\n",
        "shallow_nn_b.fit(x_train_b, y_train_b, validation_data=(x_val_b, y_val_b), epochs=40)\n",
        "\n",
        "neural_net_predictions(shallow_nn_b, x_val_b)\n"
      ],
      "metadata": {
        "colab": {
          "base_uri": "https://localhost:8080/"
        },
        "id": "z9Z-ZYVp3f9k",
        "outputId": "01379177-aa0d-4ad3-8c3f-d80e1dd00eea"
      },
      "execution_count": 12,
      "outputs": [
        {
          "output_type": "stream",
          "name": "stdout",
          "text": [
            "Epoch 1/40\n",
            "1/1 [==============================] - 4s 4s/step - loss: 0.1543 - accuracy: 1.0000 - val_loss: 0.4351 - val_accuracy: 1.0000\n",
            "Epoch 2/40\n",
            "1/1 [==============================] - 0s 115ms/step - loss: 0.1536 - accuracy: 1.0000 - val_loss: 0.4301 - val_accuracy: 1.0000\n",
            "Epoch 3/40\n",
            "1/1 [==============================] - 0s 169ms/step - loss: 0.1529 - accuracy: 1.0000 - val_loss: 0.4248 - val_accuracy: 1.0000\n",
            "Epoch 4/40\n",
            "1/1 [==============================] - 0s 130ms/step - loss: 0.1522 - accuracy: 1.0000 - val_loss: 0.4195 - val_accuracy: 1.0000\n",
            "Epoch 5/40\n",
            "1/1 [==============================] - 0s 99ms/step - loss: 0.1516 - accuracy: 1.0000 - val_loss: 0.4141 - val_accuracy: 1.0000\n",
            "Epoch 6/40\n",
            "1/1 [==============================] - 0s 116ms/step - loss: 0.1510 - accuracy: 1.0000 - val_loss: 0.4086 - val_accuracy: 1.0000\n",
            "Epoch 7/40\n",
            "1/1 [==============================] - 0s 102ms/step - loss: 0.1504 - accuracy: 1.0000 - val_loss: 0.4032 - val_accuracy: 1.0000\n",
            "Epoch 8/40\n",
            "1/1 [==============================] - 0s 125ms/step - loss: 0.1498 - accuracy: 1.0000 - val_loss: 0.3978 - val_accuracy: 1.0000\n",
            "Epoch 9/40\n",
            "1/1 [==============================] - 0s 99ms/step - loss: 0.1493 - accuracy: 1.0000 - val_loss: 0.3926 - val_accuracy: 1.0000\n",
            "Epoch 10/40\n",
            "1/1 [==============================] - 0s 81ms/step - loss: 0.1487 - accuracy: 1.0000 - val_loss: 0.3876 - val_accuracy: 1.0000\n",
            "Epoch 11/40\n",
            "1/1 [==============================] - 0s 71ms/step - loss: 0.1482 - accuracy: 1.0000 - val_loss: 0.3828 - val_accuracy: 1.0000\n",
            "Epoch 12/40\n",
            "1/1 [==============================] - 0s 72ms/step - loss: 0.1477 - accuracy: 1.0000 - val_loss: 0.3784 - val_accuracy: 1.0000\n",
            "Epoch 13/40\n",
            "1/1 [==============================] - 0s 82ms/step - loss: 0.1472 - accuracy: 1.0000 - val_loss: 0.3743 - val_accuracy: 1.0000\n",
            "Epoch 14/40\n",
            "1/1 [==============================] - 0s 149ms/step - loss: 0.1467 - accuracy: 1.0000 - val_loss: 0.3705 - val_accuracy: 1.0000\n",
            "Epoch 15/40\n",
            "1/1 [==============================] - 0s 119ms/step - loss: 0.1462 - accuracy: 1.0000 - val_loss: 0.3670 - val_accuracy: 1.0000\n",
            "Epoch 16/40\n",
            "1/1 [==============================] - 0s 100ms/step - loss: 0.1456 - accuracy: 1.0000 - val_loss: 0.3639 - val_accuracy: 1.0000\n",
            "Epoch 17/40\n",
            "1/1 [==============================] - 0s 86ms/step - loss: 0.1451 - accuracy: 1.0000 - val_loss: 0.3610 - val_accuracy: 1.0000\n",
            "Epoch 18/40\n",
            "1/1 [==============================] - 0s 91ms/step - loss: 0.1446 - accuracy: 1.0000 - val_loss: 0.3583 - val_accuracy: 1.0000\n",
            "Epoch 19/40\n",
            "1/1 [==============================] - 0s 73ms/step - loss: 0.1440 - accuracy: 1.0000 - val_loss: 0.3558 - val_accuracy: 1.0000\n",
            "Epoch 20/40\n",
            "1/1 [==============================] - 0s 72ms/step - loss: 0.1435 - accuracy: 1.0000 - val_loss: 0.3535 - val_accuracy: 1.0000\n",
            "Epoch 21/40\n",
            "1/1 [==============================] - 0s 67ms/step - loss: 0.1430 - accuracy: 1.0000 - val_loss: 0.3511 - val_accuracy: 1.0000\n",
            "Epoch 22/40\n",
            "1/1 [==============================] - 0s 67ms/step - loss: 0.1425 - accuracy: 1.0000 - val_loss: 0.3489 - val_accuracy: 1.0000\n",
            "Epoch 23/40\n",
            "1/1 [==============================] - 0s 60ms/step - loss: 0.1419 - accuracy: 1.0000 - val_loss: 0.3466 - val_accuracy: 1.0000\n",
            "Epoch 24/40\n",
            "1/1 [==============================] - 0s 38ms/step - loss: 0.1414 - accuracy: 1.0000 - val_loss: 0.3443 - val_accuracy: 1.0000\n",
            "Epoch 25/40\n",
            "1/1 [==============================] - 0s 37ms/step - loss: 0.1409 - accuracy: 1.0000 - val_loss: 0.3419 - val_accuracy: 1.0000\n",
            "Epoch 26/40\n",
            "1/1 [==============================] - 0s 42ms/step - loss: 0.1404 - accuracy: 1.0000 - val_loss: 0.3394 - val_accuracy: 1.0000\n",
            "Epoch 27/40\n",
            "1/1 [==============================] - 0s 41ms/step - loss: 0.1399 - accuracy: 1.0000 - val_loss: 0.3369 - val_accuracy: 1.0000\n",
            "Epoch 28/40\n",
            "1/1 [==============================] - 0s 38ms/step - loss: 0.1394 - accuracy: 1.0000 - val_loss: 0.3342 - val_accuracy: 1.0000\n",
            "Epoch 29/40\n",
            "1/1 [==============================] - 0s 40ms/step - loss: 0.1389 - accuracy: 1.0000 - val_loss: 0.3315 - val_accuracy: 1.0000\n",
            "Epoch 30/40\n",
            "1/1 [==============================] - 0s 41ms/step - loss: 0.1384 - accuracy: 1.0000 - val_loss: 0.3286 - val_accuracy: 1.0000\n",
            "Epoch 31/40\n",
            "1/1 [==============================] - 0s 58ms/step - loss: 0.1379 - accuracy: 1.0000 - val_loss: 0.3257 - val_accuracy: 1.0000\n",
            "Epoch 32/40\n",
            "1/1 [==============================] - 0s 38ms/step - loss: 0.1374 - accuracy: 1.0000 - val_loss: 0.3227 - val_accuracy: 1.0000\n",
            "Epoch 33/40\n",
            "1/1 [==============================] - 0s 39ms/step - loss: 0.1369 - accuracy: 1.0000 - val_loss: 0.3197 - val_accuracy: 1.0000\n",
            "Epoch 34/40\n",
            "1/1 [==============================] - 0s 37ms/step - loss: 0.1364 - accuracy: 1.0000 - val_loss: 0.3167 - val_accuracy: 1.0000\n",
            "Epoch 35/40\n",
            "1/1 [==============================] - 0s 42ms/step - loss: 0.1359 - accuracy: 1.0000 - val_loss: 0.3137 - val_accuracy: 1.0000\n",
            "Epoch 36/40\n",
            "1/1 [==============================] - 0s 64ms/step - loss: 0.1354 - accuracy: 1.0000 - val_loss: 0.3108 - val_accuracy: 1.0000\n",
            "Epoch 37/40\n",
            "1/1 [==============================] - 0s 51ms/step - loss: 0.1349 - accuracy: 1.0000 - val_loss: 0.3079 - val_accuracy: 1.0000\n",
            "Epoch 38/40\n",
            "1/1 [==============================] - 0s 40ms/step - loss: 0.1344 - accuracy: 1.0000 - val_loss: 0.3050 - val_accuracy: 1.0000\n",
            "Epoch 39/40\n",
            "1/1 [==============================] - 0s 39ms/step - loss: 0.1339 - accuracy: 1.0000 - val_loss: 0.3022 - val_accuracy: 1.0000\n",
            "Epoch 40/40\n",
            "1/1 [==============================] - 0s 60ms/step - loss: 0.1335 - accuracy: 1.0000 - val_loss: 0.2995 - val_accuracy: 1.0000\n",
            "1/1 [==============================] - 0s 73ms/step\n"
          ]
        },
        {
          "output_type": "execute_result",
          "data": {
            "text/plain": [
              "array([0])"
            ]
          },
          "metadata": {},
          "execution_count": 12
        }
      ]
    },
    {
      "cell_type": "code",
      "source": [
        "from sklearn.metrics import classification_report\n",
        "\n",
        "\n",
        "predictions = neural_net_predictions(shallow_nn, x_val_b)\n",
        "\n",
        "\n",
        "print(classification_report(y_val_b, predictions, labels=[0, 1], target_names=['Not Fraud', 'Fraud']))\n"
      ],
      "metadata": {
        "colab": {
          "base_uri": "https://localhost:8080/"
        },
        "id": "RzccfR-n38f4",
        "outputId": "34fd087e-fb7a-4afc-9d3e-d20c33bd839b"
      },
      "execution_count": 13,
      "outputs": [
        {
          "output_type": "stream",
          "name": "stdout",
          "text": [
            "1/1 [==============================] - 0s 20ms/step\n",
            "              precision    recall  f1-score   support\n",
            "\n",
            "   Not Fraud       1.00      1.00      1.00         1\n",
            "       Fraud       0.00      0.00      0.00         0\n",
            "\n",
            "   micro avg       1.00      1.00      1.00         1\n",
            "   macro avg       0.50      0.50      0.50         1\n",
            "weighted avg       1.00      1.00      1.00         1\n",
            "\n"
          ]
        },
        {
          "output_type": "stream",
          "name": "stderr",
          "text": [
            "/usr/local/lib/python3.10/dist-packages/sklearn/metrics/_classification.py:1344: UndefinedMetricWarning: Precision and F-score are ill-defined and being set to 0.0 in labels with no predicted samples. Use `zero_division` parameter to control this behavior.\n",
            "  _warn_prf(average, modifier, msg_start, len(result))\n",
            "/usr/local/lib/python3.10/dist-packages/sklearn/metrics/_classification.py:1344: UndefinedMetricWarning: Recall and F-score are ill-defined and being set to 0.0 in labels with no true samples. Use `zero_division` parameter to control this behavior.\n",
            "  _warn_prf(average, modifier, msg_start, len(result))\n",
            "/usr/local/lib/python3.10/dist-packages/sklearn/metrics/_classification.py:1344: UndefinedMetricWarning: Precision and F-score are ill-defined and being set to 0.0 in labels with no predicted samples. Use `zero_division` parameter to control this behavior.\n",
            "  _warn_prf(average, modifier, msg_start, len(result))\n",
            "/usr/local/lib/python3.10/dist-packages/sklearn/metrics/_classification.py:1344: UndefinedMetricWarning: Recall and F-score are ill-defined and being set to 0.0 in labels with no true samples. Use `zero_division` parameter to control this behavior.\n",
            "  _warn_prf(average, modifier, msg_start, len(result))\n",
            "/usr/local/lib/python3.10/dist-packages/sklearn/metrics/_classification.py:1344: UndefinedMetricWarning: Precision and F-score are ill-defined and being set to 0.0 in labels with no predicted samples. Use `zero_division` parameter to control this behavior.\n",
            "  _warn_prf(average, modifier, msg_start, len(result))\n",
            "/usr/local/lib/python3.10/dist-packages/sklearn/metrics/_classification.py:1344: UndefinedMetricWarning: Recall and F-score are ill-defined and being set to 0.0 in labels with no true samples. Use `zero_division` parameter to control this behavior.\n",
            "  _warn_prf(average, modifier, msg_start, len(result))\n"
          ]
        }
      ]
    },
    {
      "cell_type": "code",
      "source": [
        "shallow_nn.save(\"shallow_nn_b_model.n5\")"
      ],
      "metadata": {
        "id": "alObItcp4FtB"
      },
      "execution_count": 14,
      "outputs": []
    }
  ]
}